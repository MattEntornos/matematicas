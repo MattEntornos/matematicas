{
  "nbformat": 4,
  "nbformat_minor": 0,
  "metadata": {
    "colab": {
      "provenance": [],
      "collapsed_sections": [
        "EMlUZC6Lqzfs",
        "tQQS7GPXIdjH",
        "M39ufifh_Jr8",
        "KOhR4DdkL7kg",
        "tqHIq-of_N_v",
        "Aw283nkjdtcQ",
        "lllngWn__QP0"
      ],
      "include_colab_link": true
    },
    "kernelspec": {
      "name": "python3",
      "display_name": "Python 3"
    },
    "language_info": {
      "name": "python"
    }
  },
  "cells": [
    {
      "cell_type": "markdown",
      "metadata": {
        "id": "view-in-github",
        "colab_type": "text"
      },
      "source": [
        "<a href=\"https://colab.research.google.com/github/MattEntornos/matematicas/blob/main/algebra/practica_algebra_matthew.ipynb\" target=\"_parent\"><img src=\"https://colab.research.google.com/assets/colab-badge.svg\" alt=\"Open In Colab\"/></a>"
      ]
    },
    {
      "cell_type": "markdown",
      "source": [
        "# Práctica 3. Álgebra\n",
        "* Para aprender sobre Python vea la playlist [Python para Matemáticas](https://www.youtube.com/playlist?list=PL8gpDXwO-9l4HkDJ9QhB4H-cOiT0BYGau)\n",
        "* Para obtener ideas y vídeos para la resolución de la práctica vea los archivos siguientes: [Ideas](https://github.com/financieras/math/tree/main/ideas)"
      ],
      "metadata": {
        "id": "b13aYMDxmd7v"
      }
    },
    {
      "cell_type": "markdown",
      "source": [
        "## Práctica 3.1\n",
        "**Determinante en Excel**  \n",
        "\n",
        "* Cree un fichero en Excel de nombre algebra.xlsm.\n",
        "* La extensión **xlsm** corresponde a los archivos de Excel habilitados para macros.\n",
        "* Utilice la Hoja 1 para hacer la Práctica 3.1.\n",
        "* Se pide:\n",
        " 1. Cree una matriz cuadrada de dimensión 5×5, formada por números aleatorios enteros entre -9 y +9.\n",
        " 2. Calcule el determinante de esta matriz\n",
        " 3. Cree un programa en **VBA** que busque una matriz de este tipo cuyo determinante sea cero.\n",
        " 4. Copie la matriz encontrada y péguela debajo con \"pegado especial valores\" para que no varíe su contenido al efectuar el recálculo manual de la hoja."
      ],
      "metadata": {
        "id": "XWa9IdzJmpbB"
      }
    },
    {
      "cell_type": "markdown",
      "source": [
        "## Práctica 3.2\n",
        "**Matriz inversa en Excel**  \n",
        "\n",
        "* Use el mismo archivo de Excel con extensión **xlsm** del caso anterior. \n",
        "* Utilice la Hoja 2 para hacer la Práctica 3.2.\n",
        "* Se pide:\n",
        " 1. Crea la matriz $A$ que es una matriz cuadrada de dimensiones 5×5 usando números aleatorios enteros entre -9 y +9, excepto cero\n",
        " 2. Calcule su determinante\n",
        " 3. Calcule su transpuesta usando la función ```TRANSPONER```\n",
        " 4. Calcule su matriz inversa $A^{-1}$\n",
        " 5. Multiplique la matriz $A$ por su inversa $A^{-1}$ y compruebe que el producto es la matriz identidad.\n",
        " $$AA^{-1}=I$$"
      ],
      "metadata": {
        "id": "cP-ppBE1rzGW"
      }
    },
    {
      "cell_type": "markdown",
      "source": [
        "## Práctica 3.3\n",
        "**Resolución de sistemas lineales en Excel**  \n",
        "\n",
        "* Use el mismo archivo de Excel con extensión **xlsm** del caso anterior. \n",
        "* Utilice la Hoja 3 para hacer la Práctica 3.3.\n",
        "* Se pide:\n",
        " 1. Cree un sistema de 5 ecuaciones con 5 incógnitas con **solución única**.\n",
        " 2. Una de las ecuaciones será: $\\quad x_1+2x_2-x_3+x_4-3x_5=6$\n",
        " 3. Muestre las ecuaciones del sistema usando el [editor de ecuaciones](https://support.microsoft.com/es-es/office/editor-de-ecuaciones-6eac7d71-3c74-437b-80d3-c7dea24fdf3f) de Excel. $\\quad Ax=b$\n",
        " 4. Monte la matriz $A$ del sistema de ecuaciones y la matriz $b$ con los términos independientes. Muestre ambas matrices.\n",
        " 5. Calcule la matriz inversa $A^{-1}$\n",
        " 6. Resuelva el sistema lineal de ecuaciones con este método: $\\quad Ax=b \\quad \\Longrightarrow \\quad x=A^{-1}b$\n",
        " 7. Compruebe si el resultado obtenido es la solución del sistema de ecuaciones. Justifique esa comprobación."
      ],
      "metadata": {
        "id": "jJRClauctBdf"
      }
    },
    {
      "cell_type": "markdown",
      "source": [
        "## Práctica 3.4\n",
        "**Matriz inversa en Python**  \n",
        "\n",
        "Desarrolla un código en Python que al ejecutarse consiga los siguientes apartados.  \n",
        "1. Crea una matriz cuadrada de dimensiones 3×3 usando números aleatorios enteros entre -9 y +9, excepto cero\n",
        "2. Buscar un caso donde el determinante sea igual a 1\n",
        "3. Si el determinante es 1 imprime la matriz y su determinante\n",
        "4. Calcula e imprime su transpuesta\n",
        "5. Calcula e imprime su matriz inversa\n",
        "6. Multiplica la matriz creada por su inversa y comprueba que el producto es la matriz identidad.\n",
        "7. Calcula cuantos segundos ha tardado en realizarse el proceso."
      ],
      "metadata": {
        "id": "EMlUZC6Lqzfs"
      }
    },
    {
      "cell_type": "code",
      "source": [
        "from random import randint, seed, choice\n",
        "import numpy as np\n",
        "from time import process_time\n",
        "\n",
        "\n",
        "def aleatorio():\n",
        "  seed() \n",
        "  numero = randint(1,9) * choice([1,-1]) \n",
        "  return numero\n",
        "\n",
        "t1 = process_time()\n",
        "\n",
        "while True:\n",
        "    \n",
        "    m = np.array([[aleatorio(),aleatorio(),aleatorio()],[aleatorio(),aleatorio(),aleatorio()],[aleatorio(),aleatorio(),aleatorio()]])\n",
        "    determ = np.linalg.det(m)\n",
        "    redondeadoDeter = round(determ)\n",
        "\n",
        "    if redondeadoDeter == 1:\n",
        "        print(\"  Matriz A:\")\n",
        "        print()\n",
        "        print(m)\n",
        "        print()\n",
        "        print(\"Su transpuesta es:\")\n",
        "        print()\n",
        "        transpuesta = np.transpose(m)\n",
        "        print(transpuesta)\n",
        "        print()\n",
        "        print(\"Su inversa es:\")\n",
        "        print()\n",
        "        inversa = np.linalg.inv(m)\n",
        "        print(inversa)\n",
        "        print()\n",
        "\n",
        "        print(\"Matriz Identidad:\")\n",
        "        print()\n",
        "        identidad = np.dot(m, inversa)   \n",
        "        print(identidad)\n",
        "        print()\n",
        "\n",
        "        print(\"Matriz Identidad con valores enteros:\")\n",
        "        identidad = np.around(identidad, 6)\n",
        "        print()\n",
        "        print(identidad.astype(int))\n",
        "        \n",
        "        print()\n",
        "        \n",
        "        break\n",
        "\n",
        "print(f\"El determinante de la matriz A es {redondeadoDeter}\")\n",
        "t2 = process_time()\n",
        "print(f\"El proceso ha tardado {t2-t1} segundos.\")\n"
      ],
      "metadata": {
        "id": "qyeTAcyDF4ve"
      },
      "execution_count": null,
      "outputs": []
    },
    {
      "cell_type": "code",
      "source": [
        "# UNA PRUEBA FALLIDA \n",
        "\"\"\"from random import randint, seed, choice   #Importo las librerias que voy a utilizar\n",
        "import numpy as np\n",
        "\n",
        "seed() #Inicializo el generador de numeros aleatorios\n",
        "m = [] #Inicializo mi matriz\n",
        "\n",
        "\n",
        "def matriz():\n",
        "\n",
        "  for i in range(3):\n",
        "        fila = []\n",
        "        for j in range(3):\n",
        "            aleatorio = randint(1,9) * choice([1,-1])   #Genero un numero aleatorio para cada hueco en la fila \n",
        "            fila.append(aleatorio)    #La situo en la fila\n",
        "        m.append(fila)    #Y cuando ya haya completado la fila con numeros aleatorios excepto el 0, la pego en mi matriz\n",
        "  determ = round(np.linalg.det(m))\n",
        "\n",
        "  return determ, m\n",
        "\n",
        "while True:\n",
        "\n",
        "    d, matri = matriz()\n",
        "\n",
        "    if d == 1:\n",
        "        print(matri)\n",
        "        break\n",
        "\n",
        "print(f\"El determinante de la matriz es {d}\")\"\"\"\n",
        "\n"
      ],
      "metadata": {
        "id": "QyKcoU_AYWo_"
      },
      "execution_count": null,
      "outputs": []
    },
    {
      "cell_type": "markdown",
      "source": [
        "## Práctica 3.5\n",
        "**Resolución de sistemas lineales en Python**  \n",
        "\n",
        "1. Cree un sistema de 4 ecuaciones con 4 incógnitas con **solución única**.\n",
        "2. La solución del sistema es: $\\; \\begin{pmatrix}x_1, x_2, x_3, x_4\\end{pmatrix} = \\begin{pmatrix} 3, 4, 5, 2\\end{pmatrix}$  \n",
        "3. Una de las ecuaciones del sistema es: $\\enspace x_1+3x_2-x_3-2x_4=6$  \n",
        "4. El vector $b$ de términos independientes es: $\\enspace b=\\begin{pmatrix}6, 3, 5, 7\\end{pmatrix}$  \n",
        "5. Usando números aleatorios elija los coeficientes que faltan de la matriz $A$ del sistema de ecuaciones.\n",
        "  - Los coeficientes deben ser números enteros entre -5 y +5, excluido el cero.\n",
        "  - Imprima la matriz $A$.  \n",
        "6. Calcule e imprima el determinante de $A$.\n",
        "7. Calcule e imprima la matriz inversa $A^{-1}$  \n",
        "8. Resuelva el sistema lineal de ecuaciones con este método: $$Ax=b \\quad \\Longrightarrow \\quad x=A^{-1}b$$\n",
        "9. Compruebe que el resultado obtenido es la solución del sistema de ecuaciones.  \n",
        "10. Resuelva nuevamente el sistema de ecuaciones usando ```np.linalg.solve```."
      ],
      "metadata": {
        "id": "tQQS7GPXIdjH"
      }
    },
    {
      "cell_type": "code",
      "source": [
        "import numpy as np\n",
        "from random import randint, seed, choice\n",
        "\n",
        "# MONTO MI MATRIZ DE TERMINOS INDEPENDIENTES\n",
        "\n",
        "b = np.array([6,3,5,7])\n",
        "\n",
        "\n",
        "# MONTO MI MATRIZ 4x4 \n",
        "\n",
        "v = np.array([3,4,5,2])   # Solución de sistema lineal\n",
        "\n",
        "f1 = [1,3,-1,-2]  # Mi primera ecuacion del sistema dado en el enunciado\n",
        "\n",
        "def busca(b):\n",
        "    while True:\n",
        "        seed() \n",
        "        w = np.random.choice(list(range(-5,0)) + list(range(1,6)), 4) # numero aleatorio entre el -5 y 5 sin el 0\n",
        "        if np.matmul(v, w) == b:   # el producto de los dos vectores debe ser igual al número b\n",
        "            break\n",
        "    return w\n",
        "\n",
        "b2 =  3; \n",
        "f2 = busca(b2)\n",
        "print(f2)\n",
        "\n",
        "b3 =  5; \n",
        "f3 = busca(b3)\n",
        "print(f3)\n",
        "\n",
        "b4 =  7; \n",
        "f4 = busca(b4)\n",
        "print(f4)\n",
        "print()\n",
        "\n",
        "matriz = [f1, f2, f3, f4]  # formo mi matriz\n",
        "##########################################################################################\n",
        "\n",
        "# LA IMPRIMO\n",
        "print(\"  Matriz A\")\n",
        "print()\n",
        "m = np.array(matriz)\n",
        "print(m)\n",
        "print()\n",
        "\n",
        "# CALCULO SU INVERSA\n",
        "inversa = np.linalg.inv(m)\n",
        "print(\" Su inversa es:\")\n",
        "print()\n",
        "print(inversa)\n",
        "print()\n",
        "\n",
        "# CALCULO SU DETERMINANTE\n",
        "determ = np.linalg.det(matriz)\n",
        "redondeadoDeter = round(determ)\n",
        "print(f\" El determinante de la matriz es: {redondeadoDeter}\")\n",
        "print()\n",
        "\n",
        "# RESUELVO EL SISTEMA CON EL METODO : Ax=b⟹x=A−1b\n",
        "print(f\" La solucion de mi sistema es: {np.dot(inversa, b)}\")\n",
        "\n",
        "# RESUELVO EL SISTEMA CON EL METODO : np.linalg.solve.\n",
        "solucion = np.linalg.solve(m,b)\n",
        "print(f\" La solucion de mi sistema con solve es: {solucion}\")\n",
        "print()\n",
        "print(\" Podemos comprobar que los dos metodos de soluciones coinciden con la solución del sistema de ecuaciones que me dan el enunciado.\")\n",
        "\n"
      ],
      "metadata": {
        "id": "L_VBY2lN3Sml"
      },
      "execution_count": null,
      "outputs": []
    },
    {
      "cell_type": "markdown",
      "source": [
        "## Práctica 3.6\n",
        "**Resolución de sistemas lineales con Octave**  \n",
        "\n",
        "1. Tome el mismo sistema 4x4 con solución única del ejercicio anterior.\n",
        "2. Muestra el sistema usando $\\LaTeX$\n",
        "3. Resuélvelo con Octave por dos métodos\n",
        "4. ¿Ambos métodos dan el mismo resultado?"
      ],
      "metadata": {
        "id": "M39ufifh_Jr8"
      }
    },
    {
      "cell_type": "markdown",
      "source": [
        "$\\LaTeX$\n",
        "\n",
        "Sistema lineal 4x4 del ejercicio anterior.\n",
        "\n",
        "$$\\left.\n",
        "\\begin{align*}\n",
        "1x + 3y -1z -2t &= 6 \\\\\n",
        "2x + 2y -1z -3t &= 3 \\\\\n",
        "-2x + y + z + t &= 5 \\\\\n",
        "5x - 5y + 2z + t &= 7\n",
        "\\end{align*}\n",
        "\\right\\}$$\n"
      ],
      "metadata": {
        "id": "X9wry9R8MO3r"
      }
    },
    {
      "cell_type": "code",
      "source": [
        "!apt install octave"
      ],
      "metadata": {
        "id": "hk8fhIfbaYup"
      },
      "execution_count": null,
      "outputs": []
    },
    {
      "cell_type": "code",
      "source": [
        "!apt update"
      ],
      "metadata": {
        "id": "xVCm4CAMayFu"
      },
      "execution_count": null,
      "outputs": []
    },
    {
      "cell_type": "code",
      "source": [
        "# RESOLVEMOS EL SISTEMA POR EL PRIMER MÉTODO \n",
        "\n",
        "%%writefile primero.m\n",
        "\n",
        "matriz = [1 3 -1 -2; 2 2 -1 -3; -2 1 1 1; 5 -5 2 1]\n",
        "\n",
        "b = [6; 3; 5; 7]\n",
        "\n",
        "x = inv(matriz)*b\n",
        "\n",
        "solucion = rats(x)"
      ],
      "metadata": {
        "id": "7kYtK1zYbcPB"
      },
      "execution_count": null,
      "outputs": []
    },
    {
      "cell_type": "code",
      "source": [
        "# EJECUTAMOS EL PRIMER METODO\n",
        "!octave primero.m"
      ],
      "metadata": {
        "id": "FyjkAgC0fPsb"
      },
      "execution_count": null,
      "outputs": []
    },
    {
      "cell_type": "code",
      "source": [
        "# LO RESOLVEMOS POR EL SEGUNDO METODO\n",
        "\n",
        "%%writefile segundo.m\n",
        "\n",
        "G = [1 3 -1 -2 6; 2 2 -1 -3 3; -2 1 1 1 5; 5 -5 2 1 7]\n",
        "\n",
        "escalonada = rref(G)\n",
        "\n",
        "solucionDos = rats(escalonada)\n"
      ],
      "metadata": {
        "id": "2dBjmZXK0SLx"
      },
      "execution_count": null,
      "outputs": []
    },
    {
      "cell_type": "code",
      "source": [
        "# EJECUTAMOS EL METODO DOS\n",
        "\n",
        "!octave segundo.m"
      ],
      "metadata": {
        "id": "7dl0xmB82tmE"
      },
      "execution_count": null,
      "outputs": []
    },
    {
      "cell_type": "markdown",
      "source": [
        "SOLUCIÓN : Ambos métodos dan el mismo resultado, pero lo muestran de manera diferente."
      ],
      "metadata": {
        "id": "OIBKFNLQ4rhH"
      }
    },
    {
      "cell_type": "markdown",
      "source": [
        "## Práctica 3.7\n",
        "**Diagonalización en Python**\n",
        "\n",
        "* Sea la matriz cuadrada $A$ de orden 4x4\n",
        "\n",
        "$$A=\\left(\n",
        "\\begin{array}{rrrr}\n",
        " -1 &-2 &  3 &-1 \\\\\n",
        "  0 & 2 &  0 & 0 \\\\\n",
        "  0 & 0 &  2 & 0 \\\\\n",
        "  0 & 0 &  0 & 1\n",
        "\\end{array}\n",
        "\\right)$$\n",
        "1. Calcula los **autovalores** y **autovectores**\n",
        "2. Calcula y muestra:\n",
        " - la matriz diagonal $D$\n",
        " - la matriz de paso $P$\n",
        " - su inversa $P^{-1}$  \n",
        "3. Comprueba que se cumple que $A^3=PD^3P^{-1}$"
      ],
      "metadata": {
        "id": "KOhR4DdkL7kg"
      }
    },
    {
      "cell_type": "code",
      "source": [
        "import numpy as np\n",
        "\n",
        "# CALCULO LOS AUTOVALORES Y AUTOVECTORES DE MI MATRIZ A\n",
        "A = np.array([[-1,-2,3,-1], [0,2,0,0], [0,0,2,0], [0,0,0,1]]) # Contruyo mi matriz\n",
        "d,P = np.linalg.eig(A) # Calculamos autovalores y autovectores respectivamente\n",
        "print(\"d: \", d) # Mis autovalores los obtengo metidos en un solo vector\n",
        "D = np.diag(d) # Aqui cambio mis autovalores a matriz diagonal rellenando con 0 los huecos restantes\n",
        "print(\"\\nD(autovalores):\\n\", D) # Muestro mis autovalores en matriz diagonal\n",
        "print(\"\\nP(autovectores):\\n\", P) # Muestro mi matriz de paso que contiene los autovectores colocados en el mismo orden que los autovalores a los que están asociados en la matriz diagonal\n",
        "print()\n",
        "\n",
        "# CALCULAMOS LA INVERSA DE MI MATRIZ DE PASO\n",
        "inversaP = np.linalg.inv(P)\n",
        "print(\"Su inversa es:\")\n",
        "print(inversaP)\n",
        "print()\n",
        "\n",
        "#COMPROBAMOS LA SIGUIENTE EXPRESIÓN A3=PD3P−1\n",
        "aCubo = A@A@A\n",
        "print(\"A3:\\n\")\n",
        "print(aCubo)\n",
        "print()\n",
        "dCubo = D@D@D\n",
        "segundoMiembro = P@dCubo@inversaP\n",
        "print(\"PD3P−1:\\n\")\n",
        "print(segundoMiembro)\n",
        "print()\n",
        "print(\"Podemos comprobar que la expresión se cumple.\")"
      ],
      "metadata": {
        "id": "kX9JvY93KUmu"
      },
      "execution_count": null,
      "outputs": []
    },
    {
      "cell_type": "markdown",
      "source": [
        "## Práctica 3.8\n",
        "**Diagonalización con Octave**\n",
        "\n",
        "Resuelva el ejercicio anterior, pero en esta ocasión utilizando Octave."
      ],
      "metadata": {
        "id": "tqHIq-of_N_v"
      }
    },
    {
      "cell_type": "code",
      "source": [
        "!apt install octave"
      ],
      "metadata": {
        "id": "cAttmZQtpLfj"
      },
      "execution_count": null,
      "outputs": []
    },
    {
      "cell_type": "code",
      "source": [
        "!apt update"
      ],
      "metadata": {
        "id": "koKgu9zvpL_b"
      },
      "execution_count": null,
      "outputs": []
    },
    {
      "cell_type": "code",
      "source": [
        "%%writefile ejercicio8.m\n",
        "\n",
        "A = [-1,-2,3,-1; 0,2,0,0; 0,0,2,0; 0,0,0,1]\n",
        "[P,D]=eig(A)\n",
        "Dcubo = D^3\n",
        "Inversa = inv(P)\n",
        "Acubo = A^3\n",
        "PxDcuboXPinv = P*Dcubo*P^-1"
      ],
      "metadata": {
        "id": "e8xPaIpaq0YE"
      },
      "execution_count": null,
      "outputs": []
    },
    {
      "cell_type": "code",
      "source": [
        "!octave ejercicio8.m"
      ],
      "metadata": {
        "id": "u25wc57lricq"
      },
      "execution_count": null,
      "outputs": []
    },
    {
      "cell_type": "markdown",
      "source": [
        "## Práctica 3.9\n",
        "**Libertad para elegir el lugar de trabajo**  \n",
        "Resolver con **Octave**.\n",
        "\n",
        "Una empresa de 1.000 empleados permite que sus trabajadores cada día acudan a trabajar a la oficina o que realicen su trabajo desde su casa. Inicialmente el 90% de la plantilla trabajaba en la oficina y solo el 10% lo hacían en casa. Se ha observado que los que un día trabajan en casa tienen una probabilidad del 70% de realizarlo también desde casa al día siguiente, pero que en el restante 30% de los casos acuden a la oficina al día siguiente. Por el contrario, se ha observado que los que un día trabajaron en la oficina al día siguiente vuelven\n",
        "a la oficina en el 60% de los casos y en el 40% restante van a su casa al día siguiente.\n",
        "* Determinar qué número de empleados se quedan en casa transcurridos dos días.\n",
        "* ¿Y a largo plazo cuantos se quedan en casa?"
      ],
      "metadata": {
        "id": "Aw283nkjdtcQ"
      }
    },
    {
      "cell_type": "code",
      "source": [
        "!apt update\n",
        "!apt install octave"
      ],
      "metadata": {
        "id": "AvGuVyUMPYd3"
      },
      "execution_count": null,
      "outputs": []
    },
    {
      "cell_type": "code",
      "source": [
        "%%writefile ejercicionueve.m\n",
        "\n",
        "empleados = 1000\n",
        "\n",
        "vectorInicial = [.9; .1] % Declaramos el vector inicial\n",
        "\n",
        "A = [.6, .3; .4, .7] % Matriz de transicion de probabilidades\n",
        "\n",
        "[P,D]=eig(A) %  Calculamos la matriz de paso (autovectores) y la matriz diagonal (autovalores)\n",
        "\n",
        "Dcuadrado = D^2\n",
        "Acuadrado = A^2\n",
        "\n",
        "solucionExpresion  = P*Dcuadrado*P^-1\n",
        "\n",
        "dia2 = Acuadrado * vectorInicial\n",
        "disp(\"Empleados en casa el segundo día: \"), disp(dia2(2)*empleados)\n",
        "\n",
        "D10 = D^10\n",
        "A10 = P*D10*P^-1\n",
        "dia10 = A10 * vectorInicial\n",
        "disp(\"Empleados en casa a largo plazo son: \"), disp(dia10(2)*empleados)"
      ],
      "metadata": {
        "id": "EJUlEebGPmiF"
      },
      "execution_count": null,
      "outputs": []
    },
    {
      "cell_type": "code",
      "source": [
        "!octave ejercicionueve.m"
      ],
      "metadata": {
        "id": "i8qQ9hSxQIBV"
      },
      "execution_count": null,
      "outputs": []
    },
    {
      "cell_type": "markdown",
      "source": [
        "## Práctica 3.10\n",
        "**Tendencia del mercado**  \n",
        "Resolver con **Python**.\n",
        "\n",
        "En el mercado de automóviles de gran lujo únicamente se disputan la clientela dos marcas (A y B). Las ventas son $M=100.000$ automóviles anuales, no variando esta cifra con el transcurso de los años. La marca A es líder de mercado en este momento con el 75% de las ventas. Sus directivos desean consolidar su liderazgo e incluso aumentarlo, para lo cual todos los años efectúan una fuerte campaña publicitaria con la que consiguen cada año un 40% de los que fueron clientes de su competidora, aunque la empresa A pierde un 20% de sus clientes que se van a la competencia.\n",
        "* ¿Cuál es la situación a los 3 años?\n",
        "* ¿Y al cabo de mucho tiempo?"
      ],
      "metadata": {
        "id": "lllngWn__QP0"
      }
    },
    {
      "cell_type": "code",
      "source": [
        "import numpy as np\n",
        "\n",
        "X0 = np.array([.75, .25]) # Datos iniciales\n",
        "A = np.array([[.8, .4], [.2 ,.6]]) # Delcaramos la matriz A\n",
        "X3 = A@A@A@X0\n",
        "print(f\"En tres años: {X3}\")\n",
        "\n",
        "d,P = np.linalg.eig(A) # Calculamos la diagonal(autovalores) y la matriz de paso (autovectores)\n",
        "D = np.diag(d) # Rellenamos con 0 los demas huecos de la diagonal para construir la matriz\n",
        "inversaP = np.linalg.inv(P) # Calculamos la inversa de la matriz de paso\n",
        "\n",
        "A10 = P@(D**10)@inversaP\n",
        "X10 = A10@X0\n",
        "print(f\"En diez años: {X10}\")\n",
        "\n",
        "X20 = P@(D**20)@inversaP@X0\n",
        "print(f\"En veinte años: {X20}\")\n"
      ],
      "metadata": {
        "id": "apwfLjtOUeYN"
      },
      "execution_count": null,
      "outputs": []
    }
  ]
}