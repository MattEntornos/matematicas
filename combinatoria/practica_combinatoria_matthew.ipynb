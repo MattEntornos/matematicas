{
  "nbformat": 4,
  "nbformat_minor": 0,
  "metadata": {
    "colab": {
      "provenance": [],
      "include_colab_link": true
    },
    "kernelspec": {
      "name": "python3",
      "display_name": "Python 3"
    },
    "language_info": {
      "name": "python"
    }
  },
  "cells": [
    {
      "cell_type": "markdown",
      "metadata": {
        "id": "view-in-github",
        "colab_type": "text"
      },
      "source": [
        "<a href=\"https://colab.research.google.com/github/MattEntornos/matematicas/blob/main/combinatoria/practica_combinatoria_matthew.ipynb\" target=\"_parent\"><img src=\"https://colab.research.google.com/assets/colab-badge.svg\" alt=\"Open In Colab\"/></a>"
      ]
    },
    {
      "cell_type": "markdown",
      "source": [
        "# Práctica 1. Combinatoria\n",
        "Resuelva los siguientes apartados de la práctica.  \n",
        "La práctica 1.1 se proporciona solucionada para que pueda servir como ejemplo.\n"
      ],
      "metadata": {
        "id": "VP-PLgSCPtPC"
      }
    },
    {
      "cell_type": "markdown",
      "source": [
        "## Práctica 1.1\n",
        "Cuatro amigos:\n",
        "* Antonio (A)\n",
        "* Begoña (B)\n",
        "* Cesar (C)\n",
        "* Diana (D)\n",
        "\n",
        "constituyen una asociación y tienen que asignar los siguientes cargos:\n",
        "* Presiente (1)\n",
        "* Vicepresidente (2)\n",
        "* Secretario (3)\n",
        "* Tesorero (4)\n",
        "\n",
        "Se pide:\n",
        "1. Escribiendo la solución en una celda de Markdown analice el caso indicando si se trata de variaciones, permutaciones o combinaciones, con o sin repetición o el caso que sea, y el motivo para clasificar el caso de esta forma.\n",
        "2. Utilizando fórmulas de $\\LaTeX$ calcule cuántos casos existen.\n",
        "3. Cree un programa en Python para calcule cuántos casos existen.\n",
        "4. Cree un programa en Python para imprimir todas las posibilidades y numérelas. Por ejemplo:\n",
        "    - 1 ABCD\n",
        "    - 2 ABDC\n",
        "    - 3 ACBD\n",
        "    - &#20; &#20; &#20; ... ... ..."
      ],
      "metadata": {
        "id": "6oyoxqfbQJDC"
      }
    },
    {
      "cell_type": "markdown",
      "source": [
        "### Solución 1.1\n",
        "* Estamos ante un caso de **permutaciones sin repetición** ya que:\n",
        " - El orden importa, no es lo mismo estar el nº1 que significa ser presidente que el nº 4 que corresponde al tesorero.\n",
        " - Intervienen todos. Son 4 amigos para 4 cargos, todos tienen cargo, lo que cambiar es el orden, esto es, el cargo que obtengan.\n",
        " - No se repiten elementos. Una persona no puede tener dos cargos simultaneamente.\n",
        "* Los casos que se obtienen con las permutaciones sin repetición son $P_{n}=n!$ que para este ejemplo son:\n",
        "\n",
        "$$P_{4}=4!=4 \\cdot 3 \\cdot 2 \\cdot 1 = 24$$"
      ],
      "metadata": {
        "id": "t5unIqR7jdZR"
      }
    },
    {
      "cell_type": "code",
      "source": [
        "import math\n",
        "p = math.factorial(4)\n",
        "print(\"Los casos son: \", p)\n",
        "print(\"Comprobación:  \", 4*3*2*1)"
      ],
      "metadata": {
        "id": "va3_l_-hmFS-"
      },
      "execution_count": null,
      "outputs": []
    },
    {
      "cell_type": "markdown",
      "source": [
        "#### Método 1\n",
        "Sin usar librería."
      ],
      "metadata": {
        "id": "kOM3pEAGnh8v"
      }
    },
    {
      "cell_type": "code",
      "source": [
        "lista = ['A', 'B', 'C', 'D']\n",
        "contador = 1\n",
        "\n",
        "for i in lista:\n",
        "    for j in lista:\n",
        "        for k in lista:\n",
        "            for l in lista:\n",
        "                if i != j and i != k and i != l and j != k and j != l and k != l:\n",
        "                    print(f\"{contador:2d} →  {i+j+k+l}\")\n",
        "                    contador += 1"
      ],
      "metadata": {
        "id": "5--ZpSoJncj3"
      },
      "execution_count": null,
      "outputs": []
    },
    {
      "cell_type": "markdown",
      "source": [
        "#### Método 2\n",
        "* Usamos la función `permutations` de la librería `itertools`.\n",
        "* Imprimimos todas las permutaciones de los elementos de una lista."
      ],
      "metadata": {
        "id": "2PoCD5GlnwS1"
      }
    },
    {
      "cell_type": "code",
      "source": [
        "from itertools import permutations\n",
        "\n",
        "perm = permutations(['A','B','C','D'])   # obtenemos todas las permutaciones de la lista \n",
        "contador = 1\n",
        "\n",
        "for i in list(perm):                     # imprimimos todas las permutaciones \n",
        "    print (contador,\"--\",*i)\n",
        "    contador += 1                           # con el asterisco se muestran las listas sin corchetes ni comas"
      ],
      "metadata": {
        "id": "eKkB1gQnn6_P"
      },
      "execution_count": null,
      "outputs": []
    },
    {
      "cell_type": "markdown",
      "source": [
        "## Práctica 1.2\n",
        "Cuatro amigos:\n",
        "* Antonio (A)\n",
        "* Begoña (B)\n",
        "* Cesar (C)\n",
        "* Diana (D)\n",
        "\n",
        "constituyen una asociación y tienen que asignar los siguientes cargos:\n",
        "* Presiente (1)\n",
        "* Secretario (3)\n",
        "* Tesorero (4)\n",
        "\n",
        "Se pide:\n",
        "1. Escribiendo la solución en una celda de Markdown analice el caso indicando si se trata de variaciones, permutaciones o combinaciones, con o sin repetición o el caso que sea, y el motivo para clasificar el caso de esta forma.\n",
        "2. Utilizando fórmulas de $\\LaTeX$ calcule cuántos casos existen.\n",
        "3. Cree un programa en Python para calcule cuántos casos existen.\n",
        "4. Cree un programa en Python para imprimir todas las posibilidades y numérelas. Por ejemplo:\n",
        "    - 1 ABC\n",
        "    - 2 ABD\n",
        "    - 3 ACB\n",
        "    - &#20; &#20; &#20; ... ... ..."
      ],
      "metadata": {
        "id": "sxSuCpAFSBPJ"
      }
    },
    {
      "cell_type": "markdown",
      "source": [
        "### Solución 1.2\n",
        "* En este enunciado nos encontramos con un caso de **variaciones sin repetión**, por los siguientes motivos:\n",
        "\n",
        "    - En la asociación tienen que asignar 3 puestos diferentes entre 4 amigos, por lo que si a Antonio le asignan presidente, los resatantes amigos únicamente pueden aspirar a ser secreatario o tesorero. Si asignan a Begoña secreatria, los restantes amigos (Cesar y Diana) solo podrán aspirar a ser tesorero.\n",
        "    - El orden importa, ya que no es lo mismo que Antonio, Begoña y Cesar hayan sido finalmente elegidos con los roles presidente, secreatario y tesorero respectivamente, a que sean elegidos con el orden de Begoña, Antonio y Cesar, ocupando cargos distintos.\n",
        "\n",
        "    - Son sin repetición, ya que si por ejemplo Antonio ocupa el cargo de presidente, no puede ser a la vez tesorero.\n",
        "\n",
        "* Los casos que se obtienen con las **variaciones sin repetición**  $V^r_n=\\frac{n!}{(n-r)!}$ son:\n",
        "\n",
        "$$V^r_n=\\frac{n!}{(n-r)!}=\\frac{4!}{(4-3)!}=\\frac{4!}{1!}=\\frac{4 \\cdot 3 \\cdot 2 \\cdot 1!}{1!}=4 \\cdot 3 \\cdot 2=24$$\n",
        "\n",
        "\n"
      ],
      "metadata": {
        "id": "xx9qsw_ej9Pd"
      }
    },
    {
      "cell_type": "code",
      "source": [
        "#Importo de la librería math únicamente la función que en este caso voy a utilizar\n",
        "from math import factorial\n",
        "\n",
        "#Declaro las varibales con los datos que me da el enunciado\n",
        "elementos = 4\n",
        "opciones = 3\n",
        "\n",
        "#Realizo las operaciones y el resultado lo almaceno en una variable\n",
        "resultado = (factorial(elementos)) / factorial((elementos-opciones))\n",
        "\n",
        "#Imprimo el resultado por pantalla, quitandole el .0\n",
        "print(f\"El número de casos posibles son: {int(resultado)}\")"
      ],
      "metadata": {
        "id": "Nt9TJCBRqyNo"
      },
      "execution_count": null,
      "outputs": []
    },
    {
      "cell_type": "code",
      "source": [
        "#Importo de la librería itertools únicamente la función que en este caso voy a utilizar\n",
        "from itertools import permutations\n",
        "\n",
        "#Genero las permutaciones de 4 elementos tomados de 3 en 3\n",
        "permutaciones = permutations(['A','B','C','D'],3)\n",
        "\n",
        "#Las convierto en una lista y la almaceno en otra varible\n",
        "lista_permutaciones = list(permutaciones)\n",
        "\n",
        "#Recorro con un for segun la longitud del numero de permutaciones que he generado y las enumero\n",
        "for i in range(len(lista_permutaciones)):\n",
        "    print(f\"{i+1:2d}:\", *lista_permutaciones[i])"
      ],
      "metadata": {
        "id": "SiRfmslR0H2F"
      },
      "execution_count": null,
      "outputs": []
    },
    {
      "cell_type": "markdown",
      "source": [
        "## Práctica 1.3\n",
        "**<u>VARIACIONES SIN REPETICIÓN</u>**.\n",
        "\n",
        "Una clase de refuerzo para las matematicas consta de 8 alumnos:\n",
        "\n",
        "* Sebas (S)\n",
        "* Carlo (C)\n",
        "* Malco (M)\n",
        "* Ismael (I)\n",
        "* Andy (A)\n",
        "* Jr (J)\n",
        "* Fel (F)\n",
        "* Zamue (Z)\n",
        "\n",
        "La profesora les dice a los alumnos que tienen que hacer elecciones para los puestos de delegado y subdelegado."
      ],
      "metadata": {
        "id": "D0S1DjF4MKmz"
      }
    },
    {
      "cell_type": "markdown",
      "source": [
        "### Solución 1.3\n",
        "\n",
        "* En este enunciado nos encontramos con un caso de **variaciones sin repetión**, por los siguientes motivos:\n",
        "\n",
        "    - En la clase tienen que asignar 2 puestos diferentes entre 8 alumnos, por lo que si a Jr le asignan delegado, los restantes alumnos únicamente pueden aspirar a ser subdelegado.\n",
        "\n",
        "    - El orden importa, ya que no es lo mismo que Jr y Carlo hayan sido finalmente elegidos con los roles delegado y subdelegado respectivamente, a que sean elegidos con el orden de Carlo y Jr.\n",
        "\n",
        "    - Son sin repetición, ya que si por ejemplo Jr ocupa el cargo de presidente, no puede ser a la vez subdelegado.\n",
        "\n",
        "* Los casos que se obtienen con las **variaciones sin repetición**  $V^r_n=\\frac{n!}{(n-r)!}$ son:\n",
        "\n",
        "$$V^r_n=\\frac{n!}{(n-r)!}=\\frac{8!}{(8-2)!}=\\frac{8!}{6!}=\\frac{8 \\cdot 7 \\cdot 6!}{6!}=8 \\cdot 7=56$$\n"
      ],
      "metadata": {
        "id": "AfyuPIASj_20"
      }
    },
    {
      "cell_type": "code",
      "source": [
        "#Importo de la librería math únicamente la función que en este caso voy a utilizar\n",
        "from math import factorial\n",
        "\n",
        "#Declaro las varibales con los datos que me da el enunciado\n",
        "elementos = 8\n",
        "opciones = 2\n",
        "\n",
        "#Realizo las operaciones y el resultado lo almaceno en una variable\n",
        "resultado = (factorial(elementos)) / factorial((elementos-opciones))\n",
        "\n",
        "#Imprimo el resultado por pantalla, quitandole el .0\n",
        "print(f\"El número de casos posibles totales son: {int(resultado)}\")"
      ],
      "metadata": {
        "id": "y5EyzCBk2A64"
      },
      "execution_count": null,
      "outputs": []
    },
    {
      "cell_type": "code",
      "source": [
        "#Importo de la librería itertools únicamente la función que en este caso voy a utilizar\n",
        "from itertools import permutations\n",
        "\n",
        "#Genero las permutaciones de 4 elementos tomados de 2 en 2\n",
        "permutaciones = permutations(['S','C','M','I','A','J','F','Z'],2)\n",
        "\n",
        "#Las convierto en una lista y la almaceno en otra varible\n",
        "lista_permutaciones = list(permutaciones)\n",
        "\n",
        "#Recorro con un for segun la longitud del numero de permutaciones que he generado y las enumero\n",
        "for i in range(len(lista_permutaciones)):\n",
        "    print(f\"{i+1:2d}:\", *lista_permutaciones[i])"
      ],
      "metadata": {
        "id": "vIPXo6jc4vO4"
      },
      "execution_count": null,
      "outputs": []
    },
    {
      "cell_type": "markdown",
      "source": [
        "## Práctica 1.4\n",
        "**<u>VARIACIONES CON REPETICIÓN</u>**.\n",
        "\n",
        "Mi hijo  quiere echar por primera vez su primera quiniela, en la que le explico que podrá elegir entre 3 resultados (1 x 2) entre 8 partidos posibles. Tiene que tener en cuenta que se pueden repetir los resultados (puede poner varias x o varios 1 o varios 2)\n",
        "\n",
        "\n"
      ],
      "metadata": {
        "id": "gvlnqCaRMTua"
      }
    },
    {
      "cell_type": "markdown",
      "source": [
        "### Solución 1.4\n",
        "* En este enunciado nos encontramos con un caso de **variaciones con repetión**, por los siguientes motivos:\n",
        "\n",
        "    - Tiene un total de m elementos y por otro lado se forma un grupo de n posiciones.\n",
        "    - En cada posición se puede colocar a cualquiera de los m elementos, es decir, que dos o más posiciones se pueden repetir al mismo elemento.\n",
        "    - Importa el orden, ya que un partido no tiene nada que ver con el otro.\n",
        "    - Sí se repiten los elementos.\n",
        "\n",
        "* Los casos que se obtienen con las **variaciones con repetición**  $VR_{n,m} = n^m$ son:\n",
        "\n",
        "$$VR_{3,8} = 3^{8} = 6561$$\n",
        "\n"
      ],
      "metadata": {
        "id": "fuG3egp__8-P"
      }
    },
    {
      "cell_type": "code",
      "source": [
        "def variacion_con_repeticion(n,k):\n",
        " \n",
        " resultado = n**k\n",
        " print(f\"El número total de casos son: {resultado}\")\n",
        "\n",
        "variacion_con_repeticion(3,8)"
      ],
      "metadata": {
        "id": "7uDF08zKVe7K"
      },
      "execution_count": null,
      "outputs": []
    },
    {
      "cell_type": "code",
      "source": [
        "#De la librería itertools importo unicamente la funcion que voy a utilizar\n",
        "from itertools import product\n",
        "\n",
        "def variaciones_con_repeticion(opciones,m):\n",
        "  contador = 0\n",
        "  #product(): conjunto de todos los pares ordenados (a, b) donde a pertenece a A y b pertenece a B.\n",
        "  for p in product(opciones,repeat=m):\n",
        "    contador = contador + 1\n",
        "    print(contador,\"->\",*p)\n",
        "\n",
        "#Declaro la combinacion\n",
        "combinacion = \"1x2\"\n",
        "\n",
        "#Numero de elementos, segun la longitud de caracteres de la combinacion\n",
        "n = len(combinacion)\n",
        "\n",
        "#Orden de elementos\n",
        "m=8\n",
        "\n",
        "#Inicio la función, pasandole como argumentos la combinacion y el orden.\n",
        "variaciones_con_repeticion(combinacion,m)\n",
        "\n",
        "#Calculo el numero total de casos\n",
        "print(f\"El numero de variaciones con repeticion de {n} elementos tomados de {m} en {m} son {n**m}.\")"
      ],
      "metadata": {
        "id": "Fbe-4fDldwF4"
      },
      "execution_count": null,
      "outputs": []
    },
    {
      "cell_type": "markdown",
      "source": [
        "## Práctica 1.5\n",
        "**<u>PERMUTACIONES SIN REPETICIÓN.</u>**\n",
        "\n",
        "¿Cuantas maneras puede llegar a ser posible repartirse los puestos de un torneo de fútbol en la que intervienen 5 equipos?\n",
        "\n",
        "Hay 5 equipos de futbol élite que disputan un torneo, los cuales son:\n",
        "\n",
        "* FCB (F)\n",
        "* RM (R)\n",
        "* PSG (P)\n",
        "* BAY (B)\n",
        "* SEV (S)\n",
        "\n",
        "Estos equipos se diferenciarán por el orden en que se clasiquen(1puesto, 2puesto, 3puesto, 4puesto y 5puesto)."
      ],
      "metadata": {
        "id": "0OCAC-I-G5F6"
      }
    },
    {
      "cell_type": "markdown",
      "source": [
        "### Solución 1.5\n",
        "* En este enunciado nos encontramos con un caso de **permutaciones sin repetición**, por los siguientes motivos:\n",
        " \n",
        " - El orden importa, ya que no es lo mismo quedar en primer puesto que significa ser el campeón del torneo que el puesto nº 5 que corresponde a ser el último.\n",
        "\n",
        " - Intervienen todos. Son 5 equipos para 5 puestos, todos tienen clasificación.\n",
        "\n",
        " - No se repiten elementos. Un equipo no puede quedar en dos puestos diferentes a la vez.\n",
        "\n",
        "* Los casos que se obtienen con las permutaciones sin repetición son $P_{n}=n!$ que para este ejemplo son:\n",
        "\n",
        "$$P_{5}=5!=5 \\cdot 4 \\cdot 3 \\cdot 2 \\cdot1 = 120$$"
      ],
      "metadata": {
        "id": "FvLcj6XXkFOV"
      }
    },
    {
      "cell_type": "code",
      "source": [
        "#Importo de la libreria math unicamente el metodo que voy a utilizar\n",
        "from math import factorial\n",
        "\n",
        "#Creo una lista con las iniciales de los elementos que proporcionan en el enunciado\n",
        "elementos = ['F','R','B','S','P']   \n",
        "\n",
        "#Almaceno en una varible el numero de elementos que contengo en mi lista\n",
        "n = len(elementos)   \n",
        "\n",
        "#Calculo el factorial del numero de elementos\n",
        "resultado = factorial(n)\n",
        "\n",
        "#Los muesto por pantalla\n",
        "print(f\"El número de permutaciones posibles de {n} elementos es: {resultado}\")"
      ],
      "metadata": {
        "id": "zQemiqCBS21O"
      },
      "execution_count": null,
      "outputs": []
    },
    {
      "cell_type": "code",
      "source": [
        "#Ejemplo sin utilizar libreria (Para mi es menos funcional)\n",
        "\n",
        "#Creo una lista con las iniciales de los elementos que proporcionan en el enunciado\n",
        "elementos = ['F', 'R', 'B', 'S','P']\n",
        "\n",
        "#Creo e inicializo un contador para poder enumerar los casos posibles que voy a generar\n",
        "contador = 1\n",
        "\n",
        "#Recorro la lista con un conjunto de bucles (for) anidados en los que me aseguro que no se repiten los elementos con un condicional(if)\n",
        "for i in elementos:\n",
        "    for j in elementos:\n",
        "        for k in elementos:\n",
        "            for l in elementos:\n",
        "                for z in elementos:\n",
        "                  if i is not j and i is not k and i is not l and i is not z and j is not k and j is not l and j is not z and k is not l and k is not z and l is not z:\n",
        "                      print(f\"{contador:2d}:  {i+j+k+l+z}\")\n",
        "                      contador += 1"
      ],
      "metadata": {
        "id": "g9rNT7QWWfgt"
      },
      "execution_count": null,
      "outputs": []
    },
    {
      "cell_type": "code",
      "source": [
        "#Utilizando librería (Mucho mas facil)\n",
        "\n",
        "#De la libreria itertools importo unicamente el metodo que voy a utilizar en este caso\n",
        "from itertools import permutations\n",
        "\n",
        "#Con el metodo permutations genero todas las permutaciones posibles sin repeticion de los elementos que le proporciono dentro\n",
        "combinaciones = permutations(['F', 'R', 'B', 'S','P'])    \n",
        "\n",
        "#Le añado un contador para que me las enumere\n",
        "contador = 1\n",
        "\n",
        "#Parseo o casteo el objeto de tipo permutations en una lista y la recorro con un bucle(for) para mostrar todos los casos posibles\n",
        "for i in list(combinaciones):             # imprimimos todas las permutaciones \n",
        "    print(contador,\"->\",*i)\n",
        "    contador = contador + 1                   # con el asterisco se muestran las listas sin corchetes ni comas"
      ],
      "metadata": {
        "id": "0M_VRh02d3Rc"
      },
      "execution_count": null,
      "outputs": []
    },
    {
      "cell_type": "markdown",
      "source": [
        "## Práctica 1.6\n",
        "**<u>PERMUTACIONES CON REPETICÓN</u>.**\n",
        "\n",
        "Cuantos números diferentes pueden llegar a formarse con las cifras del número 318896.\n"
      ],
      "metadata": {
        "id": "YWUXIczqLj3W"
      }
    },
    {
      "cell_type": "markdown",
      "source": [
        "### Solución 1.6\n",
        "* En este enunciado nos encontramos con un caso de **permutaciones con repetición**, por los siguientes motivos:\n",
        " \n",
        " - Influye el orden en el que se colocan ya que no es lo mismo poner los elementos del numero que me dan así 318896 que desordenados, 698831. El número cambia.\n",
        "\n",
        " - Intervienen todos los números.\n",
        "\n",
        " - Se pueden repetir, ya que por ejemplo el 8 se repite dos veces.\n",
        "\n",
        "* Los casos que se obtienen con las permutaciones con repetición son $P^{k_1,k_2,...,k_r}_n=\\frac{n!}{k_1!  \\cdot k_2! \\cdot ...,k_r!}$ que para este ejemplo son:\n",
        "\n",
        "$$P^2_6=\\frac{6!}{2!}=\\frac{6 \\cdot 5 \\cdot 4 \\cdot 3 \\cdot 2!}{2!}=6 \\cdot 5 \\cdot 4 \\cdot 3 =360$$"
      ],
      "metadata": {
        "id": "siAxWVVekHs6"
      }
    },
    {
      "cell_type": "code",
      "source": [
        "from math import factorial\n",
        "\n",
        "#Declaro la cadena que se me proporciona en el enunciado\n",
        "cadena = \"318896\"\n",
        "\n",
        "#Calculo el numero de elementos segun la longitud de la cadena\n",
        "num_elementos = len(cadena)\n",
        "\n",
        "#Declaro una lista para el numero de repeticiones de cada elementos de la cadena que mas tarde voy a generar\n",
        "lista_repeticiones = []\n",
        "\n",
        "#Declaro una varible de tipo int inicializada a 1 para la multiplicacion de factoriales para calcular el numero de casos\n",
        "multiplicacion_factoriales = 1\n",
        "\n",
        "#Calculo el numero de repeticiones de mi cadena recorriendolo y validando si una repeticion ya ha sido agregada o no antes de agregarla\n",
        "for i in cadena:\n",
        "  print(i,\" se repite ->\", cadena.count(i), \"vez\")\n",
        "  if cadena.count(i) not in lista_repeticiones:\n",
        "    lista_repeticiones.append(cadena.count(i))\n",
        "\n",
        "#Muestro por pantalla las repeticiones almacenadas en mi lista para comprobar que no he repetido alguna\n",
        "print(lista_repeticiones)\n",
        "\n",
        "#Realizo la multiplicacion de factoriales recorriendo mi lista de repeticiones y almacenandolo en otra nueva variable\n",
        "for j in lista_repeticiones:\n",
        "  multiplicacion_factoriales = multiplicacion_factoriales *  factorial(j)\n",
        "\n",
        "#Calculo el numero de casos totales\n",
        "casos_totales = (factorial(num_elementos)) / multiplicacion_factoriales\n",
        "\n",
        "print(\"El numero de casos posibles que puedo generar son :\", int(casos_totales))\n"
      ],
      "metadata": {
        "id": "RJs1YgfsgdZ7"
      },
      "execution_count": null,
      "outputs": []
    },
    {
      "cell_type": "code",
      "source": [
        "from itertools import permutations\n",
        "\n",
        "p = permutations('318896')\n",
        "\n",
        "lista = [''.join(i) for i in p]\n",
        "conjunto = set(lista)\n",
        "ordenada = list(conjunto)\n",
        "ordenada.sort()\n",
        "print(str(ordenada) + \"\\n\")\n"
      ],
      "metadata": {
        "id": "7lGaiVOo2p1V"
      },
      "execution_count": null,
      "outputs": []
    },
    {
      "cell_type": "markdown",
      "source": [
        "## Práctica 1.7\n",
        "**<u>COMBINACIONES SIN REPETICIÓN</u>.**\n",
        "\n",
        "En una competición de tiro en un puesto de cualquier feria, se sortean 6 premios:\n",
        "\n",
        "* Peluche (P)\n",
        "* Collar (C)\n",
        "* Juguete (J)\n",
        "* Futbolin (F)\n",
        "* Barbie (B)\n",
        "* Descuento Cine (D)\n",
        "\n",
        "con total libertad de elección quien tire un numero exacto de latas, con la salvedad de que únicamente podrá elegir 4 y no se podrá repetir, es decir si consigo ganar no puedo elegir 2 peluches y 2 barbies.\n"
      ],
      "metadata": {
        "id": "opCrIDtJGg1R"
      }
    },
    {
      "cell_type": "markdown",
      "source": [
        "### Solución 1.7\n",
        "\n",
        "* En este enunciado nos encontramos con un caso de **combinaciones sin repetición**, por los siguientes motivos:\n",
        " \n",
        " - No importa el orden de los elementos, ya que si yo escojo un peluche, un collar, una barbie y el descuento es lo mismo que si yo escojo una barbie, un peluche y el descuento y un collar.\n",
        "\n",
        " - No entran todos los elementos, ya que en este únicamente me permiten escoger 4 premios de 6.\n",
        "\n",
        " - Unas de las reglas del puesto del feriante esque no voy a poder escoger dos veces el mismo premio, por lo que no se repiten los elementos.\n",
        "\n",
        "* Los casos que se obtienen con las combinaciones sin repetición son $ C^n_m = C_{m,n} = \\binom{m}{n} = \\frac{m!}{n!(m-n)!}$ que para este ejemplo son:\n",
        "\n",
        "$$C^4_6 = C_{6,4} = \\binom{6}{4} =\\frac{6!}{4!(6-4)!} = \\frac{6!}{4!2!} = \\frac{6 \\cdot 5 \\cdot 4!}{4! \\cdot 2} = 15$$"
      ],
      "metadata": {
        "id": "Zs46BsRnkJcl"
      }
    },
    {
      "cell_type": "code",
      "source": [
        "#De la libreria math importo unicamente el metodo factorial que voy a utilizar en este programa\n",
        "from math import factorial\n",
        "\n",
        "#Almaceno en una variable los elementos que me proporcionan\n",
        "elementos = 'PCJFBD'\n",
        "\n",
        "#Calculo el numero de elementos\n",
        "num_elementos = len(elementos)\n",
        "\n",
        "opciones = 4\n",
        "\n",
        "#Calculo el numero de combinaciones posibles en distintos pasos por hacerlo un poco diferente\n",
        "factorial_elementos = factorial(num_elementos) \n",
        "factorial_denominador = factorial(opciones)*factorial(num_elementos-opciones)\n",
        "combinaciones_totales = factorial_elementos / factorial_denominador\n",
        "\n",
        "#Las muestro por pantalla sin decimales\n",
        "print(\"El numero de combinaciones posibles que puedo generar son:\", int(combinaciones_totales))"
      ],
      "metadata": {
        "id": "jN_p6v8aSDBM"
      },
      "execution_count": null,
      "outputs": []
    },
    {
      "cell_type": "code",
      "source": [
        "#De la libreria itertools importo unicamente el metodo que voy a utilizar en este caso, combinations\n",
        "#COMBINATIONS()--->Proporciona todas las tuplas posibles de una secuencia o conjunto de números o letras utilizados en el iterador y se asume que los elementos son únicos sobre la base de las posiciones que son distintas para todos los elementos\n",
        "from itertools import combinations\n",
        "\n",
        "#Declaro un contador para enumerar junto con cada combinacion, el numero de combinaciones posibles\n",
        "contador = 1\n",
        "\n",
        "#Almaceno en una variable todas las combinaciones posibles de mis elementos tomados de 3 en 3\n",
        "combinaciones_posibles = combinations('PCJFBD', 4)\n",
        "\n",
        "#Las muestro por pantalla recorriendo cada combinaciones con un for\n",
        "for i in combinaciones_posibles:\n",
        "    print(contador,\"--->\",*i)\n",
        "    contador += 1"
      ],
      "metadata": {
        "id": "7Ea2hFs4SC2l"
      },
      "execution_count": null,
      "outputs": []
    },
    {
      "cell_type": "markdown",
      "source": [
        "## Práctica 1.8\n",
        "**<u>COMBINACIONES CON REPETICIÓN</u>**.\n",
        "\n",
        "El otro dia Juan rellenó una encuesta por internet de una agencia de viajes en la que sorteaban un pack de 5 viajes concretos:\n",
        "\n",
        "* Londres (L)\n",
        "* Las Vegas (V)\n",
        "* Tokyo (T)\n",
        "* Nueva York (N)\n",
        "* Mallorca (M)\n",
        "\n",
        "Una de las condiciones del sorteo era que el ganador podría elegir 3 destinos de los 5 propuestos. Además eso no es todo, no es obligatorio elegirlo en el momento, puedes hacerlo a medida que termines un viaje, con lo cual si por ejemplo, Antonio tras completar su primer viaje (Tokyo), su segundo viaje (Mallorca), llega a la conclusión que quiere volver a Mallorca. Pregunta a la agencia si es posible esa opción y le contestan que cabe esa posibilidad pero esa decisión ocuparía su tercer viaje."
      ],
      "metadata": {
        "id": "-7Y5WWlDGzAR"
      }
    },
    {
      "cell_type": "markdown",
      "source": [
        "### Solución 1.8\n",
        "\n",
        "* En este enunciado nos encontramos con un caso de **combinaciones con repetición**, por los siguientes motivos:\n",
        "\n",
        " - No entran todos los elementos, ya que en este únicamente me permiten escoger 3 viajes de 5 sorteados.\n",
        "\n",
        " - Si se puede repetir de viaje en el sorteo de la agencia.\n",
        "\n",
        " - No importa el orden en el que elija los viajes.\n",
        "\n",
        "* Los casos que se obtienen con las combinaciones con repetición son $CR^n_m = CR_{n,m} = C_{n,m+n-1} = \\binom{m+n-1}{n} = \\frac{(m+n-1)!}{n! \\cdot (m-1)!}$ que para este ejemplo son:\n",
        "\n",
        "$$ CR^3_5 = CR_{5,3} = \\binom{5+3-1}{3} = \\frac{(5+3-1)!}{3! \\cdot (5-1)!} = \\frac{7!}{3! \\cdot 4!} = \\frac{7 \\cdot 6 \\cdot 5 \\cdot 4!}{3 \\cdot 2 \\cdot 4!} = 35$$\n",
        "\n"
      ],
      "metadata": {
        "id": "ReRULqd8kL1F"
      }
    },
    {
      "cell_type": "code",
      "source": [],
      "metadata": {
        "id": "BsTQoVfUkX1t"
      },
      "execution_count": null,
      "outputs": []
    },
    {
      "cell_type": "markdown",
      "source": [
        "## Práctica 1.9\n",
        "En el gobierno se crea una unidad de crisis formada por el presidente (P) y 4 ministros (A,B,C,D) que se reúnen sentados alrededor de una **mesa redonda**.\n",
        "\n",
        "Se pide:  \n",
        "1. Calcule de cuantas formas pueden llegar a sentarse si el ministro de defensa (D) siempre ha de estar al lado del presidente (P). Escriba la solución en una celda de Markdown utilizando fórmulas en $\\LaTeX$  explicando el caso.\n",
        "2. Cree un programa en Python para calcular el número de casos que se pueden dar al sentarse en la mesa.\n",
        "3. Cree un programa en Python para imprimir todas las posibilidades y numérelas. Por ejemplo:\n",
        "    - 1 PDABC\n",
        "    - 2 PDACB\n",
        "    - 3 PDBCD\n",
        "    - 4 PDBDC\n",
        "    - 5 PDCAB\n",
        "    - 6 PDCBA\n",
        "    - 7 DPABC\n",
        "    - 8 DPACB\n",
        "    - &#20; &#20; &#20; ... ... ...\n"
      ],
      "metadata": {
        "id": "SOzxh_YgHnDG"
      }
    },
    {
      "cell_type": "markdown",
      "source": [
        "### Solución 1.9\n",
        "\n",
        "### Solución 1.1\n",
        "* Estamos ante un caso de **permutaciones circulares** ya que:\n",
        "\n",
        " - Surge al realizar una permutación cuando los elementos se colocan en forma de círculo, en este caso no hay principio ni fin.\n",
        "\n",
        " - El orden importa.\n",
        "\n",
        " - Al presidente y al ministro de defensa lo vamos a contar como un único elemento,ya que nos dicen en el enunciado que siempre tienen que estar juntos.\n",
        "Por lo que la forma de colocar a los 4 señores en la mesa redonda es:\n",
        "\n",
        "  $$PC_{4}=(4-1)!=3!= 3 \\cdot 2 \\cdot 1 = 6$$\n",
        "\n",
        "  - Tenemos que tener en cuenta que el Presidente y el Ministro de Defensa pueden permutarse entre sí, es decir, el Presidente puede tener al Ministro a su derecha y el otro caso lo puede tener a su izquierda. Por lo que:\n",
        "\n",
        "  $$P_{2}= 2!= 2 \\cdot 1 = 2$$\n",
        "\n",
        "  - Para concluir, puesto que ambos casos suceden a la vez y son independientes, aplicaremos la regla del producto. Por tanto, el resultado es el producto de ambas permutaciones:\n",
        "\n",
        "    $$PC_{4} \\cdot P_{2} = 6 \\cdot 2 = 12$$\n"
      ],
      "metadata": {
        "id": "F8kV034OkQZX"
      }
    },
    {
      "cell_type": "code",
      "source": [
        "from math import factorial\n",
        "\n",
        "#Creo una lista con mis elementos, dando por explicado el porque P y D cuentan como un único elemento\n",
        "elementos = ['PD','A','B','C']\n",
        "\n",
        "#Calculo la longitud de elementos de mi lista\n",
        "num_elementos = len(elementos)\n",
        "\n",
        "#Declaro mi elemento de pareja y calculo sus integrantes\n",
        "pareja = ['P','D']\n",
        "num_integrantes = len(pareja)\n",
        "\n",
        "#Calculo las posibilidades que se pueden dar al sentarse en la mesa\n",
        "casos_posibles = factorial(num_elementos - 1) * factorial(num_integrantes)\n",
        "\n",
        "print(\"El numero de casos que se pueden dar al sentarse en la mesa son\", casos_posibles)\n"
      ],
      "metadata": {
        "id": "rRW1afRf5Ie3",
        "outputId": "966074b2-ce93-4363-f1f2-32f4ae92d3cd",
        "colab": {
          "base_uri": "https://localhost:8080/"
        }
      },
      "execution_count": 9,
      "outputs": [
        {
          "output_type": "stream",
          "name": "stdout",
          "text": [
            "El numero de casos que se pueden dar al sentarse en la mesa son 12\n"
          ]
        }
      ]
    },
    {
      "cell_type": "markdown",
      "source": [
        "## Práctica 1.10\n",
        "* Realice una breve explicación teórica del **triángulo de Pascal**, o también llamado triángulo de Tartaglia, y de las fórmulas de los números combinatorios.\n",
        "* Cree un programa en Python para hacer el triángulo de Pascal."
      ],
      "metadata": {
        "id": "eiHdMOP-MkrZ"
      }
    },
    {
      "cell_type": "markdown",
      "source": [
        "### Solución 1.10\n",
        "\n",
        "* <u>TRIANGULO DE TARTALIA</u>\n",
        "\n",
        "El triangulo de pascal, es una matriz triangular de coeficientes binomiales que surge en la teoría de la probabilidad, la combinatoria y el álgebra.\n",
        "\n",
        "En otras palabras(más fácil de asimilar) es una representación matemática de números enteros ordenados en forma de triángulo. El triángulo de Tartaglia (o de Pascal) sirve para hacer cálculos matemáticos.\n",
        "\n",
        "* <u>NUMEROS COMBINATORIOS</u>\n",
        "\n",
        "Para que lo entendamos es el valor numérico de las combinaciones ordinarias (sin repetición) de un conjunto de n elementos tomados en grupos de r, siendo n y r dos números enteros y positivos tales que n ³ r. \n",
        "\n",
        "Lo hemos visto en los anteriores casos y se expresa como:\n",
        "\n",
        "$$ C_{n,r} = \\binom{n}{r} = \\frac{n!}{r!(n-r)!}$$\n",
        "\n"
      ],
      "metadata": {
        "id": "j0UT2579kTSM"
      }
    },
    {
      "cell_type": "code",
      "source": [
        "filas = int(input(\"Introduzca por favor, el numero de filas que quiere que tenga su Triangulo de Tartaglia: \"))\n",
        "  \n",
        "for n in range(filas):\n",
        "    print(' '*(filas-n), end='')\n",
        "\n",
        "    print(' '.join(map(str, str(11**n))))"
      ],
      "metadata": {
        "id": "Cp5MEhtEjomb"
      },
      "execution_count": null,
      "outputs": []
    }
  ]
}