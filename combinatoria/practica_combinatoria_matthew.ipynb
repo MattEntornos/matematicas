{
  "nbformat": 4,
  "nbformat_minor": 0,
  "metadata": {
    "colab": {
      "provenance": [],
      "include_colab_link": true
    },
    "kernelspec": {
      "name": "python3",
      "display_name": "Python 3"
    },
    "language_info": {
      "name": "python"
    }
  },
  "cells": [
    {
      "cell_type": "markdown",
      "metadata": {
        "id": "view-in-github",
        "colab_type": "text"
      },
      "source": [
        "<a href=\"https://colab.research.google.com/github/MattEntornos/matematicas/blob/main/combinatoria/practica_combinatoria_matthew.ipynb\" target=\"_parent\"><img src=\"https://colab.research.google.com/assets/colab-badge.svg\" alt=\"Open In Colab\"/></a>"
      ]
    },
    {
      "cell_type": "markdown",
      "source": [
        "# Práctica 1. Combinatoria\n",
        "Resuelva los siguientes apartados de la práctica.  \n",
        "La práctica 1.1 se proporciona solucionada para que pueda servir como ejemplo.\n"
      ],
      "metadata": {
        "id": "VP-PLgSCPtPC"
      }
    },
    {
      "cell_type": "markdown",
      "source": [
        "## Práctica 1.1\n",
        "Cuatro amigos:\n",
        "* Antonio (A)\n",
        "* Begoña (B)\n",
        "* Cesar (C)\n",
        "* Diana (D)\n",
        "\n",
        "constituyen una asociación y tienen que asignar los siguientes cargos:\n",
        "* Presiente (1)\n",
        "* Vicepresidente (2)\n",
        "* Secretario (3)\n",
        "* Tesorero (4)\n",
        "\n",
        "Se pide:\n",
        "1. Escribiendo la solución en una celda de Markdown analice el caso indicando si se trata de variaciones, permutaciones o combinaciones, con o sin repetición o el caso que sea, y el motivo para clasificar el caso de esta forma.\n",
        "2. Utilizando fórmulas de $\\LaTeX$ calcule cuántos casos existen.\n",
        "3. Cree un programa en Python para calcule cuántos casos existen.\n",
        "4. Cree un programa en Python para imprimir todas las posibilidades y numérelas. Por ejemplo:\n",
        "    - 1 ABCD\n",
        "    - 2 ABDC\n",
        "    - 3 ACBD\n",
        "    - &#20; &#20; &#20; ... ... ..."
      ],
      "metadata": {
        "id": "6oyoxqfbQJDC"
      }
    },
    {
      "cell_type": "markdown",
      "source": [
        "### Solución 1.1\n",
        "* Estamos ante un caso de **permutaciones sin repetición** ya que:\n",
        " - El orden importa, no es lo mismo estar el nº1 que significa ser presidente que el nº 4 que corresponde al tesorero.\n",
        " - Intervienen todos. Son 4 amigos para 4 cargos, todos tienen cargo, lo que cambiar es el orden, esto es, el cargo que obtengan.\n",
        " - No se repiten elementos. Una persona no puede tener dos cargos simultaneamente.\n",
        "* Los casos que se obtienen con las permutaciones sin repetición son $P_{n}=n!$ que para este ejemplo son:\n",
        "\n",
        "$$P_{4}=4!=4 \\cdot 3 \\cdot 2 \\cdot 1 = 24$$"
      ],
      "metadata": {
        "id": "t5unIqR7jdZR"
      }
    },
    {
      "cell_type": "code",
      "source": [
        "import math\n",
        "p = math.factorial(4)\n",
        "print(\"Los casos son: \", p)\n",
        "print(\"Comprobación:  \", 4*3*2*1)"
      ],
      "metadata": {
        "id": "va3_l_-hmFS-"
      },
      "execution_count": null,
      "outputs": []
    },
    {
      "cell_type": "markdown",
      "source": [
        "#### Método 1\n",
        "Sin usar librería."
      ],
      "metadata": {
        "id": "kOM3pEAGnh8v"
      }
    },
    {
      "cell_type": "code",
      "source": [
        "lista = ['A', 'B', 'C', 'D']\n",
        "contador = 1\n",
        "\n",
        "for i in lista:\n",
        "    for j in lista:\n",
        "        for k in lista:\n",
        "            for l in lista:\n",
        "                if i != j and i != k and i != l and j != k and j != l and k != l:\n",
        "                    print(f\"{contador:2d} →  {i+j+k+l}\")\n",
        "                    contador += 1"
      ],
      "metadata": {
        "id": "5--ZpSoJncj3"
      },
      "execution_count": null,
      "outputs": []
    },
    {
      "cell_type": "markdown",
      "source": [
        "#### Método 2\n",
        "* Usamos la función `permutations` de la librería `itertools`.\n",
        "* Imprimimos todas las permutaciones de los elementos de una lista."
      ],
      "metadata": {
        "id": "2PoCD5GlnwS1"
      }
    },
    {
      "cell_type": "code",
      "source": [
        "from itertools import permutations\n",
        "\n",
        "perm = permutations(['A','B','C','D'])   # obtenemos todas las permutaciones de la lista \n",
        "contador = 1\n",
        "\n",
        "for i in list(perm):                     # imprimimos todas las permutaciones \n",
        "    print (contador,\"--\",*i)\n",
        "    contador += 1                           # con el asterisco se muestran las listas sin corchetes ni comas"
      ],
      "metadata": {
        "id": "eKkB1gQnn6_P"
      },
      "execution_count": null,
      "outputs": []
    },
    {
      "cell_type": "markdown",
      "source": [
        "## Práctica 1.2\n",
        "Cuatro amigos:\n",
        "* Antonio (A)\n",
        "* Begoña (B)\n",
        "* Cesar (C)\n",
        "* Diana (D)\n",
        "\n",
        "constituyen una asociación y tienen que asignar los siguientes cargos:\n",
        "* Presiente (1)\n",
        "* Secretario (3)\n",
        "* Tesorero (4)\n",
        "\n",
        "Se pide:\n",
        "1. Escribiendo la solución en una celda de Markdown analice el caso indicando si se trata de variaciones, permutaciones o combinaciones, con o sin repetición o el caso que sea, y el motivo para clasificar el caso de esta forma.\n",
        "2. Utilizando fórmulas de $\\LaTeX$ calcule cuántos casos existen.\n",
        "3. Cree un programa en Python para calcule cuántos casos existen.\n",
        "4. Cree un programa en Python para imprimir todas las posibilidades y numérelas. Por ejemplo:\n",
        "    - 1 ABC\n",
        "    - 2 ABD\n",
        "    - 3 ACB\n",
        "    - &#20; &#20; &#20; ... ... ..."
      ],
      "metadata": {
        "id": "sxSuCpAFSBPJ"
      }
    },
    {
      "cell_type": "markdown",
      "source": [
        "### Solución 1.2\n",
        "* En este enunciado nos encontramos con un caso de **variaciones sin repetión**, por los siguientes motivos:\n",
        "\n",
        "    - En la asociación tienen que asignar 3 puestos diferentes entre 4 amigos, por lo que si a Antonio le asignan presidente, los resatantes amigos únicamente pueden aspirar a ser secreatario o tesorero. Si asignan a Begoña secreatria, los restantes amigos (Cesar y Diana) solo podrán aspirar a ser tesorero.\n",
        "    - El orden importa, ya que no es lo mismo que Antonio, Begoña y Cesar hayan sido finalmente elegidos con los roles presidente, secreatario y tesorero respectivamente, a que sean elegidos con el orden de Begoña, Antonio y Cesar, ocupando cargos distintos.\n",
        "\n",
        "    - Son sin repetición, ya que si por ejemplo Antonio ocupa el cargo de presidente, no puede ser a la vez tesorero.\n",
        "\n",
        "* Los casos que se obtienen con las **variaciones sin repetición**  $V^r_n=\\frac{n!}{(n-r)!}$ son:\n",
        "\n",
        "$$V^r_n=\\frac{n!}{(n-r)!}=\\frac{4!}{(4-3)!}=\\frac{4!}{1!}=\\frac{4 \\cdot 3 \\cdot 2 \\cdot 1!}{1!}=4 \\cdot 3 \\cdot 2=24$$\n",
        "\n",
        "\n"
      ],
      "metadata": {
        "id": "xx9qsw_ej9Pd"
      }
    },
    {
      "cell_type": "code",
      "source": [
        "#Importo de la librería math únicamente la función que en este caso voy a utilizar\n",
        "from math import factorial\n",
        "\n",
        "#Declaro las varibales con los datos que me da el enunciado\n",
        "elementos = 4\n",
        "opciones = 3\n",
        "\n",
        "#Realizo las operaciones y el resultado lo almaceno en una variable\n",
        "resultado = (factorial(elementos)) / factorial((elementos-opciones))\n",
        "\n",
        "#Imprimo el resultado por pantalla, quitandole el .0\n",
        "print(f\"El número de casos posibles son: {int(resultado)}\")"
      ],
      "metadata": {
        "id": "Nt9TJCBRqyNo"
      },
      "execution_count": null,
      "outputs": []
    },
    {
      "cell_type": "code",
      "source": [
        "#Importo de la librería itertools únicamente la función que en este caso voy a utilizar\n",
        "from itertools import permutations\n",
        "\n",
        "#Genero las permutaciones de 4 elementos tomados de 3 en 3\n",
        "permutaciones = permutations(['A','B','C','D'],3)\n",
        "\n",
        "#Las convierto en una lista y la almaceno en otra varible\n",
        "lista_permutaciones = list(permutaciones)\n",
        "\n",
        "#Recorro con un for segun la longitud del numero de permutaciones que he generado y las enumero\n",
        "for i in range(len(lista_permutaciones)):\n",
        "    print(f\"{i+1:2d}:\", *lista_permutaciones[i])"
      ],
      "metadata": {
        "id": "SiRfmslR0H2F"
      },
      "execution_count": null,
      "outputs": []
    },
    {
      "cell_type": "markdown",
      "source": [
        "## Práctica 1.3\n",
        "**<u>VARIACIONES SIN REPETICIÓN</u>**.\n",
        "\n",
        "Una clase de refuerzo para las matematicas consta de 8 alumnos:\n",
        "\n",
        "* Sebas (S)\n",
        "* Carlo (C)\n",
        "* Malco (M)\n",
        "* Ismael (I)\n",
        "* Andy (A)\n",
        "* Jr (J)\n",
        "* Fel (F)\n",
        "* Zamue (Z)\n",
        "\n",
        "La profesora les dice a los alumnos que tienen que hacer elecciones para los puestos de delegado y subdelegado."
      ],
      "metadata": {
        "id": "D0S1DjF4MKmz"
      }
    },
    {
      "cell_type": "markdown",
      "source": [
        "### Solución 1.3\n",
        "\n",
        "* En este enunciado nos encontramos con un caso de **variaciones sin repetión**, por los siguientes motivos:\n",
        "\n",
        "    - En la clase tienen que asignar 2 puestos diferentes entre 8 alumnos, por lo que si a Jr le asignan delegado, los restantes alumnos únicamente pueden aspirar a ser subdelegado.\n",
        "\n",
        "    - El orden importa, ya que no es lo mismo que Jr y Carlo hayan sido finalmente elegidos con los roles delegado y subdelegado respectivamente, a que sean elegidos con el orden de Carlo y Jr.\n",
        "\n",
        "    - Son sin repetición, ya que si por ejemplo Jr ocupa el cargo de presidente, no puede ser a la vez subdelegado.\n",
        "\n",
        "* Los casos que se obtienen con las **variaciones sin repetición**  $V^r_n=\\frac{n!}{(n-r)!}$ son:\n",
        "\n",
        "$$V^r_n=\\frac{n!}{(n-r)!}=\\frac{8!}{(8-2)!}=\\frac{8!}{6!}=\\frac{8 \\cdot 7 \\cdot 6!}{6!}=8 \\cdot 7=56$$\n"
      ],
      "metadata": {
        "id": "AfyuPIASj_20"
      }
    },
    {
      "cell_type": "code",
      "source": [
        "#Importo de la librería math únicamente la función que en este caso voy a utilizar\n",
        "from math import factorial\n",
        "\n",
        "#Declaro las varibales con los datos que me da el enunciado\n",
        "elementos = 8\n",
        "opciones = 2\n",
        "\n",
        "#Realizo las operaciones y el resultado lo almaceno en una variable\n",
        "resultado = (factorial(elementos)) / factorial((elementos-opciones))\n",
        "\n",
        "#Imprimo el resultado por pantalla, quitandole el .0\n",
        "print(f\"El número de casos posibles totales son: {int(resultado)}\")"
      ],
      "metadata": {
        "id": "y5EyzCBk2A64"
      },
      "execution_count": null,
      "outputs": []
    },
    {
      "cell_type": "code",
      "source": [
        "#Importo de la librería itertools únicamente la función que en este caso voy a utilizar\n",
        "from itertools import permutations\n",
        "\n",
        "#Genero las permutaciones de 4 elementos tomados de 2 en 2\n",
        "permutaciones = permutations(['S','C','M','I','A','J','F','Z'],2)\n",
        "\n",
        "#Las convierto en una lista y la almaceno en otra varible\n",
        "lista_permutaciones = list(permutaciones)\n",
        "\n",
        "#Recorro con un for segun la longitud del numero de permutaciones que he generado y las enumero\n",
        "for i in range(len(lista_permutaciones)):\n",
        "    print(f\"{i+1:2d}:\", *lista_permutaciones[i])"
      ],
      "metadata": {
        "id": "vIPXo6jc4vO4"
      },
      "execution_count": null,
      "outputs": []
    },
    {
      "cell_type": "markdown",
      "source": [
        "## Práctica 1.4\n",
        "**<u>VARIACIONES CON REPETICIÓN</u>**.\n",
        "\n",
        "Mi hijo  quiere echar por primera vez su primera quiniela, en la que le explico que podrá elegir entre 3 resultados (1 x 2) entre 8 partidos posibles. Tiene que tener en cuenta que se pueden repetir los resultados (puede poner varias x o varios 1 o varios 2)\n",
        "\n",
        "\n"
      ],
      "metadata": {
        "id": "gvlnqCaRMTua"
      }
    },
    {
      "cell_type": "markdown",
      "source": [
        "### Solución 1.4\n",
        "* En este enunciado nos encontramos con un caso de **variaciones con repetión**, por los siguientes motivos:\n",
        "\n",
        "    - Tiene un total de m elementos y por otro lado se forma un grupo de n posiciones.\n",
        "    - En cada posición se puede colocar a cualquiera de los m elementos, es decir, que dos o más posiciones se pueden repetir al mismo elemento.\n",
        "    - Importa el orden, ya que un partido no tiene nada que ver con el otro.\n",
        "    - Sí se repiten los elementos.\n",
        "\n",
        "* Los casos que se obtienen con las **variaciones con repetición**  $VR_{n,m} = n^m$ son:\n",
        "\n",
        "$$VR_{3,8} = 3^{8} = 6561$$\n",
        "\n"
      ],
      "metadata": {
        "id": "fuG3egp__8-P"
      }
    },
    {
      "cell_type": "code",
      "source": [
        "def variacion_con_repeticion(n,k):\n",
        " \n",
        " resultado = n**k\n",
        " print(f\"El número total de casos son: {resultado}\")\n",
        "\n",
        "variacion_con_repeticion(3,8)"
      ],
      "metadata": {
        "id": "7uDF08zKVe7K"
      },
      "execution_count": null,
      "outputs": []
    },
    {
      "cell_type": "code",
      "source": [
        "#De la librería itertools importo unicamente la funcion que voy a utilizar\n",
        "from itertools import product\n",
        "\n",
        "def variaciones_con_repeticion(opciones,m):\n",
        "  contador = 0\n",
        "  #product(): conjunto de todos los pares ordenados (a, b) donde a pertenece a A y b pertenece a B.\n",
        "  for p in product(opciones,repeat=m):\n",
        "    contador = contador + 1\n",
        "    print(contador,\"->\",*p)\n",
        "\n",
        "#Declaro la combinacion\n",
        "combinacion = \"1x2\"\n",
        "\n",
        "#Numero de elementos, segun la longitud de caracteres de la combinacion\n",
        "n = len(combinacion)\n",
        "\n",
        "#Orden de elementos\n",
        "m=8\n",
        "\n",
        "#Inicio la función, pasandole como argumentos la combinacion y el orden.\n",
        "variaciones_con_repeticion(combinacion,m)\n",
        "\n",
        "#Calculo el numero total de casos\n",
        "print(f\"El numero de variaciones con repeticion de {n} elementos tomados de {m} en {m} son {n**m}.\")"
      ],
      "metadata": {
        "id": "Fbe-4fDldwF4"
      },
      "execution_count": null,
      "outputs": []
    },
    {
      "cell_type": "markdown",
      "source": [
        "## Práctica 1.5\n",
        "**<u>PERMUTACIONES SIN REPETICIÓN.</u>**\n",
        "\n",
        "Mis 10 familiares\n"
      ],
      "metadata": {
        "id": "0OCAC-I-G5F6"
      }
    },
    {
      "cell_type": "markdown",
      "source": [
        "### Solución 1.5"
      ],
      "metadata": {
        "id": "FvLcj6XXkFOV"
      }
    },
    {
      "cell_type": "markdown",
      "source": [
        "## Práctica 1.6\n",
        "Invente un caso de **permutaciones con repetición**.\n",
        "Se pide contestar a los mismos puntos que el caso anterior."
      ],
      "metadata": {
        "id": "YWUXIczqLj3W"
      }
    },
    {
      "cell_type": "markdown",
      "source": [],
      "metadata": {
        "id": "K16D0Y5f8U-z"
      }
    },
    {
      "cell_type": "markdown",
      "source": [
        "### Solución 1.6"
      ],
      "metadata": {
        "id": "siAxWVVekHs6"
      }
    },
    {
      "cell_type": "markdown",
      "source": [
        "## Práctica 1.7\n",
        "Invente un caso de **combinaciones sin repetición**.\n",
        "Se pide contestar a los mismos puntos que el caso anterior."
      ],
      "metadata": {
        "id": "opCrIDtJGg1R"
      }
    },
    {
      "cell_type": "markdown",
      "source": [
        "### Solución 1.7"
      ],
      "metadata": {
        "id": "Zs46BsRnkJcl"
      }
    },
    {
      "cell_type": "markdown",
      "source": [
        "## Práctica 1.8\n",
        "Invente un caso de **combinaciones con repetición**.\n",
        "Se pide contestar a los mismos puntos que el caso anterior."
      ],
      "metadata": {
        "id": "-7Y5WWlDGzAR"
      }
    },
    {
      "cell_type": "markdown",
      "source": [
        "### Solución 1.8"
      ],
      "metadata": {
        "id": "ReRULqd8kL1F"
      }
    },
    {
      "cell_type": "markdown",
      "source": [
        "## Práctica 1.9\n",
        "En el gobierno se crea una unidad de crisis formada por el presidente (P) y 4 ministros (A,B,C,D) que se reúnen sentados alrededor de una **mesa redonda**.\n",
        "\n",
        "Se pide:  \n",
        "1. Calcule de cuantas formas pueden llegar a sentarse si el ministro de defensa (D) siempre ha de estar al lado del presidente (P). Escriba la solución en una celda de Markdown utilizando fórmulas en $\\LaTeX$  explicando el caso.\n",
        "2. Cree un programa en Python para calcular el número de casos que se pueden dar al sentarse en la mesa.\n",
        "3. Cree un programa en Python para imprimir todas las posibilidades y numérelas. Por ejemplo:\n",
        "    - 1 PDABC\n",
        "    - 2 PDACB\n",
        "    - 3 PDBCD\n",
        "    - 4 PDBDC\n",
        "    - 5 PDCAB\n",
        "    - 6 PDCBA\n",
        "    - 7 DPABC\n",
        "    - 8 DPACB\n",
        "    - &#20; &#20; &#20; ... ... ...\n"
      ],
      "metadata": {
        "id": "SOzxh_YgHnDG"
      }
    },
    {
      "cell_type": "markdown",
      "source": [
        "### Solución 1.9"
      ],
      "metadata": {
        "id": "F8kV034OkQZX"
      }
    },
    {
      "cell_type": "markdown",
      "source": [
        "## Práctica 1.10\n",
        "* Realice una breve explicación teórica del **triángulo de Pascal**, o también llamado triángulo de Tartaglia, y de las fórmulas de los números combinatorios.\n",
        "* Cree un programa en Python para hacer el triángulo de Pascal."
      ],
      "metadata": {
        "id": "eiHdMOP-MkrZ"
      }
    },
    {
      "cell_type": "markdown",
      "source": [
        "### Solución 1.10"
      ],
      "metadata": {
        "id": "j0UT2579kTSM"
      }
    }
  ]
}